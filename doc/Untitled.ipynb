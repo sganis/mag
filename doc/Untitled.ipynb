{
 "cells": [
  {
   "cell_type": "code",
   "execution_count": 65,
   "id": "bf32016d-78f3-4077-8c5c-862d2210c748",
   "metadata": {},
   "outputs": [],
   "source": []
  },
  {
   "cell_type": "code",
   "execution_count": 1,
   "id": "bc39add2-e48d-4901-8626-39497f892ff1",
   "metadata": {},
   "outputs": [],
   "source": [
    "import requests\n",
    "import bs4\n",
    "import calendar\n",
    "from datetime import date, datetime\n",
    "from dateutil.relativedelta import relativedelta"
   ]
  },
  {
   "cell_type": "code",
   "execution_count": 11,
   "id": "544067cd-d11e-4c5c-9100-3d893bd993b3",
   "metadata": {},
   "outputs": [
    {
     "name": "stdout",
     "output_type": "stream",
     "text": [
      "Precio Arrendamiento\n",
      "--------------------\n",
      "Ene 2024: 1,418.577 ARS\n",
      "Dic 2023:   961.357 ARS\n",
      "Nov 2023:   861.075 ARS\n",
      "Oct 2023:   710.309 ARS\n",
      "Sep 2023:   716.236 ARS\n",
      "Ago 2023:   489.551 ARS\n"
     ]
    }
   ],
   "source": [
    "url = 'https://www.mercadoagroganadero.com.ar/dll/hacienda2.dll/haciinfo000013'\n",
    "months = ['Ene','Feb','Mar','Abr','May','Jun','Jul','Ago','Sep','Oct','Nov','Dic']\n",
    "today = datetime.today()\n",
    "year = today.year\n",
    "month = today.month\n",
    "\n",
    "print('Precio Arrendamiento') \n",
    "print('--------------------') \n",
    "\n",
    "for i in range(6):\n",
    "    try:\n",
    "        prev_month = today-relativedelta(months=i+1)\n",
    "        y = prev_month.year\n",
    "        m = prev_month.month\n",
    "        start = f'1/{m}/{y}'\n",
    "        end = f'{calendar.monthrange(y, m)[1]}/{m}/{y}'\n",
    "        next_month = datetime.strptime(start, '%d/%m/%Y') + relativedelta(months=1)\n",
    "        period = f'{months[next_month.month-1]} {next_month.year}'\n",
    "        # print(start, end, period)\n",
    "        r = requests.post(url, data={'txtFechaIni': start, 'txtFechaFin': end})\n",
    "        html = bs4.BeautifulSoup(r.text)\n",
    "        value = int(html.body.find_all('td')[-2].text.replace('.','').replace(',',''))/1000\n",
    "    except:\n",
    "        value = 'n/a'\n",
    "    print(f'{period}: {value:>9,} ARS')\n"
   ]
  },
  {
   "cell_type": "code",
   "execution_count": null,
   "id": "d0dab46d-3b3e-4601-a16f-9e6a4ff40a52",
   "metadata": {},
   "outputs": [],
   "source": []
  }
 ],
 "metadata": {
  "kernelspec": {
   "display_name": "Python 3 (ipykernel)",
   "language": "python",
   "name": "python3"
  },
  "language_info": {
   "codemirror_mode": {
    "name": "ipython",
    "version": 3
   },
   "file_extension": ".py",
   "mimetype": "text/x-python",
   "name": "python",
   "nbconvert_exporter": "python",
   "pygments_lexer": "ipython3",
   "version": "3.9.13"
  }
 },
 "nbformat": 4,
 "nbformat_minor": 5
}
